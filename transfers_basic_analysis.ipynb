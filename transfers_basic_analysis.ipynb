{
 "cells": [
  {
   "cell_type": "code",
   "execution_count": 2,
   "metadata": {},
   "outputs": [],
   "source": [
    "import numpy as np\n",
    "import pandas as pd\n",
    "import matplotlib.pyplot as plt"
   ]
  },
  {
   "cell_type": "code",
   "execution_count": 3,
   "metadata": {},
   "outputs": [],
   "source": [
    "data = pd.read_csv('transfers.csv')"
   ]
  },
  {
   "cell_type": "markdown",
   "metadata": {},
   "source": [
    "## Find Top 5 Leagues by turnover in selling players"
   ]
  },
  {
   "cell_type": "code",
   "execution_count": 29,
   "metadata": {},
   "outputs": [
    {
     "data": {
      "text/plain": [
       "League_from\n",
       "Premier League    7248.51\n",
       "Serie A           7083.98\n",
       "LaLiga            5533.86\n",
       "Ligue 1           4396.89\n",
       "1.Bundesliga      3062.96\n",
       "Name: Transfer_fee, dtype: float64"
      ]
     },
     "execution_count": 29,
     "metadata": {},
     "output_type": "execute_result"
    }
   ],
   "source": [
    "league_from = data.groupby(['League_from'])['Transfer_fee'].sum()\n",
    "top5sell_league = league_from.sort_values(ascending=False).head(5)\n",
    "top5sell_league = top5sell_league/1000000\n",
    "top5sell_league.head()"
   ]
  },
  {
   "cell_type": "markdown",
   "metadata": {},
   "source": [
    "## Find Top 5 Leagues by turnover in buying players"
   ]
  },
  {
   "cell_type": "code",
   "execution_count": 30,
   "metadata": {},
   "outputs": [
    {
     "data": {
      "text/plain": [
       "League_to\n",
       "Premier League    14695.400\n",
       "Serie A            7535.220\n",
       "LaLiga             6680.360\n",
       "Ligue 1            3682.720\n",
       "1.Bundesliga       3599.645\n",
       "Name: Transfer_fee, dtype: float64"
      ]
     },
     "execution_count": 30,
     "metadata": {},
     "output_type": "execute_result"
    }
   ],
   "source": [
    "league_to = data.groupby(['League_to'])['Transfer_fee'].sum()\n",
    "top5buy_league = league_to.sort_values(ascending=False).head(5)\n",
    "top5buy_league = top5buy_league/1000000\n",
    "top5buy_league.head()"
   ]
  },
  {
   "cell_type": "markdown",
   "metadata": {},
   "source": [
    "## Profits?"
   ]
  },
  {
   "cell_type": "code",
   "execution_count": 31,
   "metadata": {},
   "outputs": [
    {
     "data": {
      "text/plain": [
       "League_from\n",
       "Ligue 1            714.170\n",
       "Serie A           -451.240\n",
       "1.Bundesliga      -536.685\n",
       "LaLiga           -1146.500\n",
       "Premier League   -7446.890\n",
       "Name: Transfer_fee, dtype: float64"
      ]
     },
     "execution_count": 31,
     "metadata": {},
     "output_type": "execute_result"
    }
   ],
   "source": [
    "diff_league = top5sell_league - top5buy_league\n",
    "diff_league = diff_league.sort_values(ascending=False)\n",
    "diff_league.head()"
   ]
  },
  {
   "cell_type": "markdown",
   "metadata": {},
   "source": [
    "It is not a new information that EPL has the biggest amount of money involved and that clubs can permit themselves to buy a lot as they gain money from other sources. What is really interesting is that clubs from French League1 in general make money on transfers. I actually thought that all of the numbers will be with the minus sign. "
   ]
  },
  {
   "cell_type": "markdown",
   "metadata": {},
   "source": [
    "## Summary"
   ]
  },
  {
   "cell_type": "code",
   "execution_count": 9,
   "metadata": {},
   "outputs": [
    {
     "data": {
      "text/html": [
       "<div>\n",
       "<style>\n",
       "    .dataframe thead tr:only-child th {\n",
       "        text-align: right;\n",
       "    }\n",
       "\n",
       "    .dataframe thead th {\n",
       "        text-align: left;\n",
       "    }\n",
       "\n",
       "    .dataframe tbody tr th {\n",
       "        vertical-align: top;\n",
       "    }\n",
       "</style>\n",
       "<table border=\"1\" class=\"dataframe\">\n",
       "  <thead>\n",
       "    <tr style=\"text-align: right;\">\n",
       "      <th></th>\n",
       "      <th>sell</th>\n",
       "      <th>buy</th>\n",
       "      <th>diff</th>\n",
       "    </tr>\n",
       "  </thead>\n",
       "  <tbody>\n",
       "    <tr>\n",
       "      <th>Premier League</th>\n",
       "      <td>7248510000</td>\n",
       "      <td>14695400000</td>\n",
       "      <td>-7446890000</td>\n",
       "    </tr>\n",
       "    <tr>\n",
       "      <th>Serie A</th>\n",
       "      <td>7083980000</td>\n",
       "      <td>7535220000</td>\n",
       "      <td>-451240000</td>\n",
       "    </tr>\n",
       "    <tr>\n",
       "      <th>LaLiga</th>\n",
       "      <td>5533860000</td>\n",
       "      <td>6680360000</td>\n",
       "      <td>-1146500000</td>\n",
       "    </tr>\n",
       "    <tr>\n",
       "      <th>Ligue 1</th>\n",
       "      <td>4396890000</td>\n",
       "      <td>3682720000</td>\n",
       "      <td>714170000</td>\n",
       "    </tr>\n",
       "    <tr>\n",
       "      <th>1.Bundesliga</th>\n",
       "      <td>3062960000</td>\n",
       "      <td>3599645000</td>\n",
       "      <td>-536685000</td>\n",
       "    </tr>\n",
       "  </tbody>\n",
       "</table>\n",
       "</div>"
      ],
      "text/plain": [
       "                      sell          buy        diff\n",
       "Premier League  7248510000  14695400000 -7446890000\n",
       "Serie A         7083980000   7535220000  -451240000\n",
       "LaLiga          5533860000   6680360000 -1146500000\n",
       "Ligue 1         4396890000   3682720000   714170000\n",
       "1.Bundesliga    3062960000   3599645000  -536685000"
      ]
     },
     "execution_count": 9,
     "metadata": {},
     "output_type": "execute_result"
    }
   ],
   "source": [
    "league_summary = pd.concat([top5sell_league, top5buy_league], axis=1)\n",
    "league_summary = league_summary.assign(diff=diff_league)\n",
    "new_columns = league_summary.columns.values\n",
    "new_columns[[0, 1]] = ['sell', 'buy']\n",
    "league_summary.columns = new_columns\n",
    "league_summary.head()"
   ]
  },
  {
   "cell_type": "markdown",
   "metadata": {},
   "source": [
    "## Analyzing clubs\n",
    "## Sellers"
   ]
  },
  {
   "cell_type": "code",
   "execution_count": 10,
   "metadata": {},
   "outputs": [],
   "source": [
    "club_from_sum = data.groupby(['Team_from'])['Transfer_fee'].sum()\n",
    "club_from_count = data.groupby(['Team_from'])['Transfer_fee'].count()\n",
    "club_from_mean_price = (club_from_sum/1000000) / club_from_count"
   ]
  },
  {
   "cell_type": "markdown",
   "metadata": {},
   "source": [
    "## Buyers"
   ]
  },
  {
   "cell_type": "code",
   "execution_count": 11,
   "metadata": {},
   "outputs": [],
   "source": [
    "club_to_sum = data.groupby(['Team_to'])['Transfer_fee'].sum()\n",
    "club_to_count = data.groupby(['Team_to'])['Transfer_fee'].count()\n",
    "club_to_mean_price = (club_to_sum/1000000) / club_to_count"
   ]
  },
  {
   "cell_type": "markdown",
   "metadata": {},
   "source": [
    "## Profits?"
   ]
  },
  {
   "cell_type": "code",
   "execution_count": 12,
   "metadata": {},
   "outputs": [],
   "source": [
    "diff_club = club_from_sum - club_to_sum\n",
    "diff_club = diff_club.sort_values(ascending=False)\n",
    "diff_club = diff_club.dropna()"
   ]
  },
  {
   "cell_type": "markdown",
   "metadata": {},
   "source": [
    "## Summary Top and Bottom 15 for clubs\n",
    "## Total sum of sales"
   ]
  },
  {
   "cell_type": "code",
   "execution_count": 27,
   "metadata": {},
   "outputs": [
    {
     "data": {
      "text/plain": [
       "Team_from\n",
       "Monaco             948.17\n",
       "FC Porto           917.55\n",
       "Real Madrid        891.40\n",
       "Chelsea            839.53\n",
       "Liverpool          798.41\n",
       "Juventus           797.98\n",
       "Benfica            785.75\n",
       "Inter              785.28\n",
       "FC Barcelona       752.10\n",
       "Atlético Madrid    734.40\n",
       "AS Roma            724.80\n",
       "Spurs              699.00\n",
       "Valencia CF        599.65\n",
       "Bor. Dortmund      580.35\n",
       "Sevilla FC         564.60\n",
       "Name: Transfer_fee, dtype: float64"
      ]
     },
     "execution_count": 27,
     "metadata": {},
     "output_type": "execute_result"
    }
   ],
   "source": [
    "club_from_sum = club_from_sum.sort_values(ascending=False)\n",
    "club_from_sum = club_from_sum/1000000\n",
    "club_from_sum.head(15)"
   ]
  },
  {
   "cell_type": "code",
   "execution_count": 28,
   "metadata": {},
   "outputs": [
    {
     "data": {
      "text/plain": [
       "Team_from\n",
       "Viking FK          1.300\n",
       "Hammarby           1.300\n",
       "FCM Bacau          1.300\n",
       "SH Shenhua         1.300\n",
       "Rotherham Utd.     1.200\n",
       "Energie Cottbus    1.200\n",
       "Coimbra            1.200\n",
       "Figueirense FC     1.200\n",
       "UCLA Bruins        1.000\n",
       "CDUC               1.000\n",
       "Belenenses         1.000\n",
       "Lada Togliatti     1.000\n",
       "Istres FC          1.000\n",
       "Anconitana         0.950\n",
       "Lausanne-Sport     0.825\n",
       "Name: Transfer_fee, dtype: float64"
      ]
     },
     "execution_count": 28,
     "metadata": {},
     "output_type": "execute_result"
    }
   ],
   "source": [
    "club_from_sum.tail(15)"
   ]
  },
  {
   "cell_type": "markdown",
   "metadata": {},
   "source": [
    "## Mean price of a sale"
   ]
  },
  {
   "cell_type": "code",
   "execution_count": 16,
   "metadata": {},
   "outputs": [
    {
     "data": {
      "text/plain": [
       "Team_from\n",
       "Athletic Bilbao    31.800000\n",
       "RB Leipzig         23.300000\n",
       "Monaco             20.173830\n",
       "FC Augsburg        20.000000\n",
       "FC Barcelona       19.792105\n",
       "SSC Napoli         19.480556\n",
       "Shakhtar D.        18.360000\n",
       "Southampton        18.215200\n",
       "GZ Evergrande      17.725000\n",
       "AS Roma            16.855814\n",
       "Real Madrid        16.818868\n",
       "Bor. Dortmund      16.581429\n",
       "Real Sociedad      16.563636\n",
       "Lazio              16.419286\n",
       "FC Porto           16.384821\n",
       "Name: Transfer_fee, dtype: float64"
      ]
     },
     "execution_count": 16,
     "metadata": {},
     "output_type": "execute_result"
    }
   ],
   "source": [
    "club_from_mean_price = club_from_mean_price.sort_values(ascending=False)\n",
    "club_from_mean_price.head(15)\n",
    "# in millions"
   ]
  },
  {
   "cell_type": "code",
   "execution_count": 17,
   "metadata": {},
   "outputs": [
    {
     "data": {
      "text/plain": [
       "Team_from\n",
       "FCM Bacau          1.300\n",
       "Viking FK          1.300\n",
       "Hammarby           1.300\n",
       "Rotherham Utd.     1.200\n",
       "Figueirense FC     1.200\n",
       "Energie Cottbus    1.200\n",
       "Coimbra            1.200\n",
       "Boavista           1.100\n",
       "Istres FC          1.000\n",
       "Lada Togliatti     1.000\n",
       "UCLA Bruins        1.000\n",
       "CDUC               1.000\n",
       "Belenenses         1.000\n",
       "Anconitana         0.950\n",
       "Lausanne-Sport     0.825\n",
       "Name: Transfer_fee, dtype: float64"
      ]
     },
     "execution_count": 17,
     "metadata": {},
     "output_type": "execute_result"
    }
   ],
   "source": [
    "club_from_mean_price.tail(15)\n",
    "# I should've put some minimum borderline of let's say 10 men moved"
   ]
  },
  {
   "cell_type": "markdown",
   "metadata": {},
   "source": [
    "## Total sum of buys"
   ]
  },
  {
   "cell_type": "code",
   "execution_count": 26,
   "metadata": {},
   "outputs": [
    {
     "data": {
      "text/plain": [
       "Team_to\n",
       "Chelsea            1820.65\n",
       "Man City           1800.52\n",
       "Real Madrid        1680.65\n",
       "FC Barcelona       1673.04\n",
       "Man Utd            1497.36\n",
       "Juventus           1470.94\n",
       "Liverpool          1412.42\n",
       "Paris SG           1274.78\n",
       "Inter              1202.69\n",
       "Spurs              1024.40\n",
       "AC Milan            941.35\n",
       "Atlético Madrid     918.81\n",
       "Arsenal             899.06\n",
       "AS Roma             826.38\n",
       "Bayern Munich       812.35\n",
       "Name: Transfer_fee, dtype: float64"
      ]
     },
     "execution_count": 26,
     "metadata": {},
     "output_type": "execute_result"
    }
   ],
   "source": [
    "club_to_sum = club_to_sum.sort_values(ascending=False)\n",
    "club_to_sum = club_to_sum/1000000\n",
    "club_to_sum.head(15)"
   ]
  },
  {
   "cell_type": "code",
   "execution_count": 19,
   "metadata": {},
   "outputs": [
    {
     "data": {
      "text/plain": [
       "Team_to\n",
       "Helsingborg        1500000\n",
       "Man Utd U18        1500000\n",
       "Hajduk Split       1500000\n",
       "Malmö FF           1330000\n",
       "FCS Bucharest      1300000\n",
       "Pohang Steelers    1300000\n",
       "Querétaro FC       1200000\n",
       "Slavia Prag        1100000\n",
       "Boavista           1000000\n",
       "Dinamo Zagreb      1000000\n",
       "Royal Antwerp      1000000\n",
       "Chelsea U23        1000000\n",
       "Al-Ittihad         1000000\n",
       "M. Tel Aviv        1000000\n",
       "Ascoli              900000\n",
       "Name: Transfer_fee, dtype: int64"
      ]
     },
     "execution_count": 19,
     "metadata": {},
     "output_type": "execute_result"
    }
   ],
   "source": [
    "club_to_sum.tail(15)"
   ]
  },
  {
   "cell_type": "markdown",
   "metadata": {},
   "source": [
    "## Mean price of a buy"
   ]
  },
  {
   "cell_type": "code",
   "execution_count": 20,
   "metadata": {},
   "outputs": [
    {
     "data": {
      "text/plain": [
       "Team_to\n",
       "SIPG              25.983333\n",
       "FC Barcelona      23.900571\n",
       "CC Yatai          23.300000\n",
       "Man Utd           23.036308\n",
       "Real Madrid       22.408667\n",
       "Paris SG          19.314848\n",
       "Man City          19.154468\n",
       "Chelsea           18.965104\n",
       "Juventus          16.907356\n",
       "Liverpool         16.616706\n",
       "Bayern Munich     15.043519\n",
       "TJ Quanjian       14.992500\n",
       "JS Suning         14.783750\n",
       "Arsenal           14.738689\n",
       "AC Milan          13.843382\n",
       "Name: Transfer_fee, dtype: float64"
      ]
     },
     "execution_count": 20,
     "metadata": {},
     "output_type": "execute_result"
    }
   ],
   "source": [
    "club_to_mean_price = club_to_mean_price.sort_values(ascending=False)\n",
    "club_to_mean_price.head(15)"
   ]
  },
  {
   "cell_type": "code",
   "execution_count": 21,
   "metadata": {},
   "outputs": [
    {
     "data": {
      "text/plain": [
       "Team_to\n",
       "Helsingborg        1.50000\n",
       "1860 Munich        1.39375\n",
       "Malmö FF           1.33000\n",
       "FCS Bucharest      1.30000\n",
       "Pohang Steelers    1.30000\n",
       "Iraklis            1.25000\n",
       "Querétaro FC       1.20000\n",
       "Slavia Prag        1.10000\n",
       "Royal Antwerp      1.00000\n",
       "Dinamo Zagreb      1.00000\n",
       "Chelsea U23        1.00000\n",
       "M. Tel Aviv        1.00000\n",
       "Boavista           1.00000\n",
       "Al-Ittihad         1.00000\n",
       "Ascoli             0.90000\n",
       "Name: Transfer_fee, dtype: float64"
      ]
     },
     "execution_count": 21,
     "metadata": {},
     "output_type": "execute_result"
    }
   ],
   "source": [
    "club_to_mean_price.tail(15)"
   ]
  },
  {
   "cell_type": "markdown",
   "metadata": {},
   "source": [
    "## Profits / Loses"
   ]
  },
  {
   "cell_type": "code",
   "execution_count": 25,
   "metadata": {},
   "outputs": [
    {
     "data": {
      "text/plain": [
       "FC Porto          556.74\n",
       "Benfica           451.05\n",
       "Udinese Calcio    342.50\n",
       "River Plate       324.63\n",
       "Parma             263.79\n",
       "Monaco            262.56\n",
       "AFC Ajax          245.33\n",
       "Santos FC         245.00\n",
       "LOSC Lille        220.44\n",
       "Sporting CP       209.25\n",
       "Internacional     205.26\n",
       "Dinamo Zagreb     201.43\n",
       "São Paulo         201.31\n",
       "Cruzeiro          181.00\n",
       "Boca Juniors      175.60\n",
       "Name: Transfer_fee, dtype: float64"
      ]
     },
     "execution_count": 25,
     "metadata": {},
     "output_type": "execute_result"
    }
   ],
   "source": [
    "diff_club.head(15)\n",
    "# in millions"
   ]
  },
  {
   "cell_type": "code",
   "execution_count": 24,
   "metadata": {},
   "outputs": [
    {
     "data": {
      "text/plain": [
       "Everton           -233.43\n",
       "SSC Napoli        -251.80\n",
       "Spurs             -325.40\n",
       "Arsenal           -368.89\n",
       "Inter             -417.41\n",
       "AC Milan          -452.00\n",
       "Bayern Munich     -508.95\n",
       "Liverpool         -614.01\n",
       "Juventus          -672.96\n",
       "Real Madrid       -789.25\n",
       "Paris SG          -880.15\n",
       "FC Barcelona      -920.94\n",
       "Man Utd           -969.79\n",
       "Chelsea           -981.12\n",
       "Man City         -1381.27\n",
       "Name: Transfer_fee, dtype: float64"
      ]
     },
     "execution_count": 24,
     "metadata": {},
     "output_type": "execute_result"
    }
   ],
   "source": [
    "diff_club = diff_club/1000000\n",
    "diff_club.tail(15)\n",
    "# in millions"
   ]
  },
  {
   "cell_type": "markdown",
   "metadata": {},
   "source": [
    "## Visualize"
   ]
  },
  {
   "cell_type": "code",
   "execution_count": 35,
   "metadata": {},
   "outputs": [
    {
     "data": {
      "image/png": "[encoded data removed]",
      "text/plain": [
       "<matplotlib.figure.Figure at 0x15f57cf1710>"
      ]
     },
     "metadata": {},
     "output_type": "display_data"
    }
   ],
   "source": [
    "visual = diff_club.head(15)\n",
    "millions = np.array(visual.values).tolist()\n",
    "teams = np.array(visual.index.values).tolist()\n",
    "ind = np.arange(len(teams))\n",
    "plt.bar(ind, millions)\n",
    "plt.xticks(ind, teams, rotation=90)\n",
    "plt.show()"
   ]
  },
  {
   "cell_type": "code",
   "execution_count": 37,
   "metadata": {},
   "outputs": [
    {
     "data": {
      "image/png": "[encoded data removed]",
      "text/plain": [
       "<matplotlib.figure.Figure at 0x15f57d7ffd0>"
      ]
     },
     "metadata": {},
     "output_type": "display_data"
    }
   ],
   "source": [
    "visual_loses = diff_club.tail(15)\n",
    "millions = np.array(visual_loses.values).tolist()\n",
    "teams = np.array(visual_loses.index.values).tolist()\n",
    "ind = np.arange(len(teams))\n",
    "plt.bar(ind, millions, color = 'r')\n",
    "plt.xticks(ind, teams, rotation=90)\n",
    "plt.show()"
   ]
  },
  {
   "cell_type": "markdown",
   "metadata": {},
   "source": [
    "This is a basic analysis, but it already answers few interesting questions.\n",
    "1. The richest league - English Premier League (obvious)\n",
    "2. Clubs of which Top-5 league make money on transfer market? - Ligue1\n",
    "3. The biggest sellers in the market, top5: Monaco, FC Porto, Real Madrid, Chelsea, Liverpool\n",
    "4. The biggest buyers in the market, top5: Chelsea, Man City, Real Madrid, FC Barcelona, Man Utd\n",
    "5. Clubs that sell expensive players on average: Athletic Bilbao, RB Leipzig, Monaco, FC Augsburg, FC Barcelona\n",
    "6. Clubs that buy expensive players on average: SIPG, FC Barcelona, CC Yatai, Man Utd, Real Madrid\n",
    "7. Clubs that made money during last 18 years on the transfer market: FC Porto, Benfica, Udinese Calcio, River Plate, Parma\n",
    "8. Clubs that lost money (a lot of money actually): Man City, Chelsea, Man Utd, FC Barcelona, Paris SG\n",
    "\n",
    "I've being looking at this summary for 10 minutes or so trying to make some smart conclusions and what did I understand? Nothing interesting here, all the answers are logical if you know at least something about football. Big clubs with a lot of money buy best players and trying to win all the possible tropheys. Clubs out of top 5 leagues just trying to make money and portugeses do that the best. Also it is not that much about the money, but about the level of the league - best players go to better leagues and this is clear and completely logical.\n",
    "Although, I think I could find more interesting stuff in dynamics, by analyzing the market divided by periods. For example, we can see that English clubs spent a lot of money on transfers since 2000, but last 10 years Spanish clubs totally dominate Europe. Does it correlate with increased expenses on transfers? I will find that out next weekeneds."
   ]
  }
 ],
 "metadata": {
  "kernelspec": {
   "display_name": "Python 3",
   "language": "python",
   "name": "python3"
  },
  "language_info": {
   "codemirror_mode": {
    "name": "ipython",
    "version": 3
   },
   "file_extension": ".py",
   "mimetype": "text/x-python",
   "name": "python",
   "nbconvert_exporter": "python",
   "pygments_lexer": "ipython3",
   "version": "3.6.3"
  }
 },
 "nbformat": 4,
 "nbformat_minor": 2
}
